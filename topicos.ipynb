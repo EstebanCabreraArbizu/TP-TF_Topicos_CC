{
  "cells": [
    {
      "cell_type": "markdown",
      "metadata": {
        "id": "view-in-github",
        "colab_type": "text"
      },
      "source": [
        "<a href=\"https://colab.research.google.com/github/EstebanCabreraArbizu/TP-TF_Topicos_CC/blob/main/topicos.ipynb\" target=\"_parent\"><img src=\"https://colab.research.google.com/assets/colab-badge.svg\" alt=\"Open In Colab\"/></a>"
      ]
    },
    {
      "cell_type": "code",
      "source": [
        "!pip install python-constraint"
      ],
      "metadata": {
        "id": "EYucdaqoVzjm",
        "outputId": "cd768b05-5ff0-4f8b-a73b-021f17112246",
        "colab": {
          "base_uri": "https://localhost:8080/"
        }
      },
      "execution_count": null,
      "outputs": [
        {
          "output_type": "stream",
          "name": "stdout",
          "text": [
            "Requirement already satisfied: python-constraint in /usr/local/lib/python3.10/dist-packages (1.4.0)\n"
          ]
        }
      ]
    },
    {
      "cell_type": "markdown",
      "source": [
        "# Descargar los datos de kaggle a google colab.\n",
        "* Advrtencia: es necesario tener tu api (.json) de kaggle dentro de content en google colab"
      ],
      "metadata": {
        "id": "Uy9z9RBFTG-j"
      }
    },
    {
      "cell_type": "code",
      "source": [
        "!pip install -q kaggle\n",
        "import os\n",
        "if not os.path.exists('/root/.kaggle'):\n",
        "    !mkdir /root/.kaggle\n",
        "if not os.path.isfile('/root/.kaggle/kaggle.json'):\n",
        "    !cp kaggle.json /root/.kaggle/\n",
        "    !chmod 600 /root/.kaggle/kaggle.json\n",
        "if not os.path.isfile('/content/bus-transit-data.zip'):\n",
        "  !kaggle datasets download -d lyxbash/bus-transit-data\n",
        "  !unzip \"/content/bus-transit-data.zip\" -d \"/content/\""
      ],
      "metadata": {
        "id": "YHkv_OWRSaNh"
      },
      "execution_count": 29,
      "outputs": []
    },
    {
      "cell_type": "code",
      "source": [
        "import pandas as pd\n",
        "import time\n",
        "\n",
        "# Medimos el tiempo para cargar los datos\n",
        "start_time = time.time()\n",
        "\n",
        "# Cargamos los datos con tipos optimizados\n",
        "routes_df = pd.read_csv('routes.txt', dtype={'route_id': 'int32'})\n",
        "shapes_df = pd.read_csv('shapes.txt', dtype={'shape_id': 'str', 'shape_pt_lat': 'float32', 'shape_pt_lon': 'float32', 'shape_pt_sequence': 'int32'})\n",
        "stop_times_df = pd.read_csv('stop_times.txt', dtype={'trip_id': 'str', 'stop_id': 'int32', 'stop_sequence': 'int32'})\n",
        "stops_df = pd.read_csv('stops.txt', dtype={'stop_id': 'int32', 'stop_lat': 'float32', 'stop_lon': 'float32'})\n",
        "trips_df = pd.read_csv('trips.txt', dtype={'trip_id': 'str', 'route_id': 'int32', 'shape_id': 'str'})\n",
        "\n",
        "# Mide el tiempo de carga de los datos\n",
        "print(f\"Tiempo para cargar los datos: {time.time() - start_time} segundos\")"
      ],
      "metadata": {
        "id": "vzhdZtIqWF7z",
        "outputId": "f7757b1c-607b-41e0-dc55-c4ffb087947d",
        "colab": {
          "base_uri": "https://localhost:8080/"
        }
      },
      "execution_count": 28,
      "outputs": [
        {
          "output_type": "stream",
          "name": "stdout",
          "text": [
            "Tiempo para cargar los datos: 0.39658498764038086 segundos\n"
          ]
        }
      ]
    },
    {
      "cell_type": "markdown",
      "source": [
        "# Implementación de CP en los tiempos de parada y rutas de los buses"
      ],
      "metadata": {
        "id": "aQNg-B07Umlw"
      }
    },
    {
      "cell_type": "code",
      "source": [
        "!pip install ortools"
      ],
      "metadata": {
        "id": "-jwP2CiYW5dS",
        "outputId": "51eb67b3-314a-4133-a877-e64530032af1",
        "colab": {
          "base_uri": "https://localhost:8080/"
        }
      },
      "execution_count": null,
      "outputs": [
        {
          "output_type": "stream",
          "name": "stdout",
          "text": [
            "Collecting ortools\n",
            "  Downloading ortools-9.11.4210-cp310-cp310-manylinux_2_17_x86_64.manylinux2014_x86_64.whl.metadata (3.0 kB)\n",
            "Collecting absl-py>=2.0.0 (from ortools)\n",
            "  Downloading absl_py-2.1.0-py3-none-any.whl.metadata (2.3 kB)\n",
            "Requirement already satisfied: numpy>=1.13.3 in /usr/local/lib/python3.10/dist-packages (from ortools) (1.26.4)\n",
            "Requirement already satisfied: pandas>=2.0.0 in /usr/local/lib/python3.10/dist-packages (from ortools) (2.1.4)\n",
            "Collecting protobuf<5.27,>=5.26.1 (from ortools)\n",
            "  Downloading protobuf-5.26.1-cp37-abi3-manylinux2014_x86_64.whl.metadata (592 bytes)\n",
            "Requirement already satisfied: immutabledict>=3.0.0 in /usr/local/lib/python3.10/dist-packages (from ortools) (4.2.0)\n",
            "Requirement already satisfied: python-dateutil>=2.8.2 in /usr/local/lib/python3.10/dist-packages (from pandas>=2.0.0->ortools) (2.8.2)\n",
            "Requirement already satisfied: pytz>=2020.1 in /usr/local/lib/python3.10/dist-packages (from pandas>=2.0.0->ortools) (2024.2)\n",
            "Requirement already satisfied: tzdata>=2022.1 in /usr/local/lib/python3.10/dist-packages (from pandas>=2.0.0->ortools) (2024.1)\n",
            "Requirement already satisfied: six>=1.5 in /usr/local/lib/python3.10/dist-packages (from python-dateutil>=2.8.2->pandas>=2.0.0->ortools) (1.16.0)\n",
            "Downloading ortools-9.11.4210-cp310-cp310-manylinux_2_17_x86_64.manylinux2014_x86_64.whl (28.1 MB)\n",
            "\u001b[2K   \u001b[90m━━━━━━━━━━━━━━━━━━━━━━━━━━━━━━━━━━━━━━━━\u001b[0m \u001b[32m28.1/28.1 MB\u001b[0m \u001b[31m61.9 MB/s\u001b[0m eta \u001b[36m0:00:00\u001b[0m\n",
            "\u001b[?25hDownloading absl_py-2.1.0-py3-none-any.whl (133 kB)\n",
            "\u001b[2K   \u001b[90m━━━━━━━━━━━━━━━━━━━━━━━━━━━━━━━━━━━━━━━━\u001b[0m \u001b[32m133.7/133.7 kB\u001b[0m \u001b[31m8.1 MB/s\u001b[0m eta \u001b[36m0:00:00\u001b[0m\n",
            "\u001b[?25hDownloading protobuf-5.26.1-cp37-abi3-manylinux2014_x86_64.whl (302 kB)\n",
            "\u001b[2K   \u001b[90m━━━━━━━━━━━━━━━━━━━━━━━━━━━━━━━━━━━━━━━━\u001b[0m \u001b[32m302.8/302.8 kB\u001b[0m \u001b[31m23.0 MB/s\u001b[0m eta \u001b[36m0:00:00\u001b[0m\n",
            "\u001b[?25hInstalling collected packages: protobuf, absl-py, ortools\n",
            "  Attempting uninstall: protobuf\n",
            "    Found existing installation: protobuf 3.20.3\n",
            "    Uninstalling protobuf-3.20.3:\n",
            "      Successfully uninstalled protobuf-3.20.3\n",
            "  Attempting uninstall: absl-py\n",
            "    Found existing installation: absl-py 1.4.0\n",
            "    Uninstalling absl-py-1.4.0:\n",
            "      Successfully uninstalled absl-py-1.4.0\n",
            "\u001b[31mERROR: pip's dependency resolver does not currently take into account all the packages that are installed. This behaviour is the source of the following dependency conflicts.\n",
            "cudf-cu12 24.4.1 requires protobuf<5,>=3.20, but you have protobuf 5.26.1 which is incompatible.\n",
            "google-ai-generativelanguage 0.6.6 requires protobuf!=3.20.0,!=3.20.1,!=4.21.0,!=4.21.1,!=4.21.2,!=4.21.3,!=4.21.4,!=4.21.5,<5.0.0dev,>=3.19.5, but you have protobuf 5.26.1 which is incompatible.\n",
            "google-cloud-datastore 2.19.0 requires protobuf!=3.20.0,!=3.20.1,!=4.21.0,!=4.21.1,!=4.21.2,!=4.21.3,!=4.21.4,!=4.21.5,<5.0.0dev,>=3.19.5, but you have protobuf 5.26.1 which is incompatible.\n",
            "google-cloud-firestore 2.16.1 requires protobuf!=3.20.0,!=3.20.1,!=4.21.0,!=4.21.1,!=4.21.2,!=4.21.3,!=4.21.4,!=4.21.5,<5.0.0dev,>=3.19.5, but you have protobuf 5.26.1 which is incompatible.\n",
            "tensorboard 2.17.0 requires protobuf!=4.24.0,<5.0.0,>=3.19.6, but you have protobuf 5.26.1 which is incompatible.\n",
            "tensorflow 2.17.0 requires protobuf!=4.21.0,!=4.21.1,!=4.21.2,!=4.21.3,!=4.21.4,!=4.21.5,<5.0.0dev,>=3.20.3, but you have protobuf 5.26.1 which is incompatible.\n",
            "tensorflow-metadata 1.15.0 requires protobuf<4.21,>=3.20.3; python_version < \"3.11\", but you have protobuf 5.26.1 which is incompatible.\u001b[0m\u001b[31m\n",
            "\u001b[0mSuccessfully installed absl-py-2.1.0 ortools-9.11.4210 protobuf-5.26.1\n"
          ]
        }
      ]
    },
    {
      "cell_type": "markdown",
      "source": [
        "## Primera versión"
      ],
      "metadata": {
        "id": "l1MVIktnVD_I"
      }
    },
    {
      "cell_type": "code",
      "source": [
        "from ortools.sat.python import cp_model\n",
        "import pandas as pd\n",
        "from datetime import timedelta\n",
        "import time\n",
        "\n",
        "# Medir tiempo de inicio\n",
        "start_time = time.time()\n",
        "\n",
        "# Cargar los datasets\n",
        "stop_times_df = pd.read_csv('stop_times.txt')\n",
        "trips_df = pd.read_csv('trips.txt')\n",
        "\n",
        "# Función para ajustar tiempos inválidos que exceden 24 horas\n",
        "def adjust_time_format(time_str):\n",
        "    # Dividir la cadena de tiempo en horas, minutos y segundos\n",
        "    time_parts = time_str.split(':')\n",
        "    hours = int(time_parts[0])\n",
        "    minutes = int(time_parts[1])\n",
        "    seconds = int(time_parts[2])\n",
        "\n",
        "    # Si las horas son mayores o iguales a 24, ajustarlas\n",
        "    if hours >= 24:\n",
        "        hours -= 24  # Ajustar a formato de 24 horas\n",
        "        return f'{hours:02}:{minutes:02}:{seconds:02}'\n",
        "    else:\n",
        "        return time_str\n",
        "\n",
        "# Aplicar la función de ajuste al campo de tiempos de llegada y salida\n",
        "stop_times_df['arrival_time'] = stop_times_df['arrival_time'].apply(adjust_time_format)\n",
        "stop_times_df['departure_time'] = stop_times_df['departure_time'].apply(adjust_time_format)\n",
        "\n",
        "# Convertir los tiempos a formato datetime\n",
        "stop_times_df['arrival_time'] = pd.to_datetime(stop_times_df['arrival_time'], format='%H:%M:%S')\n",
        "stop_times_df['departure_time'] = pd.to_datetime(stop_times_df['departure_time'], format='%H:%M:%S')\n",
        "\n",
        "# Crear una instancia del modelo CSP de OR-Tools\n",
        "model = cp_model.CpModel()\n",
        "\n",
        "# Variables\n",
        "trip_ids = trips_df['trip_id'].unique()\n",
        "stop_ids = stop_times_df['stop_id'].unique()\n",
        "\n",
        "# Crear las variables de decisión\n",
        "trip_variables = {}\n",
        "for trip_id in trip_ids:\n",
        "    for stop_id in stop_times_df[stop_times_df['trip_id'] == trip_id]['stop_id'].unique():\n",
        "        # Definimos una variable binaria que indica si un trip_id pasa por un stop_id\n",
        "        trip_variables[(trip_id, stop_id)] = model.NewBoolVar(f'trip_{trip_id}_stop_{stop_id}')\n",
        "\n",
        "# Restricción 1: Secuencia de paradas correcta\n",
        "for trip_id in trip_ids:\n",
        "    trip_stop_times = stop_times_df[stop_times_df['trip_id'] == trip_id].sort_values(by='stop_sequence')\n",
        "    stop_sequence = trip_stop_times['stop_id'].tolist()\n",
        "\n",
        "    for i in range(len(stop_sequence) - 1):\n",
        "        stop1 = stop_sequence[i]\n",
        "        stop2 = stop_sequence[i + 1]\n",
        "\n",
        "        # Verificamos que ambas paradas existan en trip_variables antes de aplicar la restricción\n",
        "        if (trip_id, stop1) in trip_variables and (trip_id, stop2) in trip_variables:\n",
        "            # La parada siguiente debe ser mayor en la secuencia\n",
        "            model.Add(trip_variables[(trip_id, stop1)] <= trip_variables[(trip_id, stop2)])\n",
        "\n",
        "# Restricción 2: Respetar los tiempos de llegada y salida\n",
        "for trip_id in trip_ids:\n",
        "    trip_times = stop_times_df[stop_times_df['trip_id'] == trip_id]\n",
        "    arrival_times = trip_times['arrival_time']\n",
        "    departure_times = trip_times['departure_time']\n",
        "\n",
        "    # Aseguramos que la hora de salida sea mayor o igual que la de llegada en cada parada\n",
        "    for i in range(len(arrival_times)):\n",
        "        if i < len(departure_times) and i < len(arrival_times):\n",
        "            model.Add(arrival_times.iloc[i] <= departure_times.iloc[i])\n",
        "\n",
        "# Crear un solver para resolver el modelo\n",
        "solver = cp_model.CpSolver()\n",
        "status = solver.Solve(model)\n",
        "\n",
        "# Verificar si se encontró una solución\n",
        "if status == cp_model.FEASIBLE:\n",
        "    print(\"Se encontró una solución:\")\n",
        "    for trip_id in trip_ids:\n",
        "        for stop_id in stop_ids:\n",
        "            if (trip_id, stop_id) in trip_variables and solver.Value(trip_variables[(trip_id, stop_id)]) == 1:\n",
        "                print(f\"El trip_id {trip_id} pasa por la parada {stop_id}\")\n",
        "else:\n",
        "    print(\"No se encontró una solución factible.\")\n",
        "\n",
        "# Mostrar tiempo de ejecución\n",
        "print(f\"Tiempo total de ejecución: {time.time() - start_time} segundos\")\n",
        "\n"
      ],
      "metadata": {
        "id": "ngHu-QQUW60q",
        "outputId": "3d603b2a-39bb-4133-edda-163e3f671d15",
        "colab": {
          "base_uri": "https://localhost:8080/"
        }
      },
      "execution_count": null,
      "outputs": [
        {
          "output_type": "stream",
          "name": "stdout",
          "text": [
            "No se encontró una solución factible.\n",
            "Tiempo total de ejecución: 27.332876920700073 segundos\n"
          ]
        }
      ]
    },
    {
      "cell_type": "markdown",
      "source": [
        "## Segunda versión\n",
        "Que tiene resultados"
      ],
      "metadata": {
        "id": "3oDw0Da7VGPl"
      }
    },
    {
      "cell_type": "code",
      "source": [
        "from ortools.sat.python import cp_model\n",
        "import pandas as pd\n",
        "from datetime import timedelta\n",
        "\n",
        "# Cargar los datasets\n",
        "routes_df = pd.read_csv('routes.txt')\n",
        "stop_times_df = pd.read_csv('stop_times.txt')\n",
        "trips_df = pd.read_csv('trips.txt')\n",
        "\n",
        "# Función para ajustar los tiempos que exceden las 24 horas\n",
        "def adjust_time_format(time_str):\n",
        "    time_parts = time_str.split(':')\n",
        "    hours = int(time_parts[0])\n",
        "    minutes = int(time_parts[1])\n",
        "    seconds = int(time_parts[2])\n",
        "\n",
        "    # Ajustar horas mayores a 23\n",
        "    if hours >= 24:\n",
        "        hours -= 24  # Convertir el tiempo a formato de 24 horas\n",
        "    return f'{hours:02}:{minutes:02}:{seconds:02}'\n",
        "\n",
        "# Aplicar la función para ajustar los tiempos en el dataset\n",
        "stop_times_df['arrival_time'] = stop_times_df['arrival_time'].apply(adjust_time_format)\n",
        "stop_times_df['departure_time'] = stop_times_df['departure_time'].apply(adjust_time_format)\n",
        "\n",
        "# Convertir a formato datetime después del ajuste\n",
        "stop_times_df['arrival_time'] = pd.to_datetime(stop_times_df['arrival_time'], format='%H:%M:%S')\n",
        "stop_times_df['departure_time'] = pd.to_datetime(stop_times_df['departure_time'], format='%H:%M:%S')\n",
        "\n",
        "# Extraer los tiempos de viaje de las rutas a partir de stop_times.txt\n",
        "viajes_tiempos = {}\n",
        "for trip_id in trips_df['trip_id'].unique():\n",
        "    # Filtrar por trip_id para calcular el tiempo de viaje total\n",
        "    trip_times = stop_times_df[stop_times_df['trip_id'] == trip_id]\n",
        "    if len(trip_times) > 1:\n",
        "        tiempo_inicio = trip_times['arrival_time'].iloc[0]\n",
        "        tiempo_final = trip_times['departure_time'].iloc[-1]\n",
        "        duracion_viaje = (tiempo_final - tiempo_inicio).seconds // 60  # Duración en minutos\n",
        "        viajes_tiempos[trip_id] = duracion_viaje\n",
        "\n",
        "# Definir las rutas desde el dataset\n",
        "rutas = routes_df['route_id'].unique()\n",
        "\n",
        "# Definir el número de vehículos y sus capacidades\n",
        "num_vehiculos = 8  # Número de vehículos disponibles\n",
        "capacidad_vehiculos = [50, 80, 70, 70, 60,50,80,70]  # Capacidad máxima de cada vehículo\n",
        "\n",
        "# Definir tiempos máximos de viaje (por ejemplo, 150 minutos)\n",
        "max_tiempo_viaje = 200\n",
        "\n",
        "# Crear una instancia del modelo CSP de OR-Tools\n",
        "model = cp_model.CpModel()\n",
        "\n",
        "# Crear variables de asignación de vehículos a rutas\n",
        "vehiculo_ruta = {}\n",
        "for vehiculo in range(num_vehiculos):\n",
        "    for ruta in rutas:\n",
        "        vehiculo_ruta[(vehiculo, ruta)] = model.NewBoolVar(f\"vehiculo_{vehiculo}_ruta_{ruta}\")\n",
        "\n",
        "# Crear variables de horarios\n",
        "horarios = range(6, 22)  # Horarios de operación de los vehículos (de 6 AM a 10 PM)\n",
        "vehiculo_horario = {}\n",
        "for vehiculo in range(num_vehiculos):\n",
        "    for horario in horarios:\n",
        "        vehiculo_horario[(vehiculo, horario)] = model.NewBoolVar(f\"vehiculo_{vehiculo}_horario_{horario}\")\n",
        "\n",
        "# Restricción 1: Cada vehículo cubre solo una ruta\n",
        "\n",
        "\n",
        "# Restricción 2: Cada ruta debe ser cubierta por al menos un vehículo\n",
        "for ruta in rutas:\n",
        "    model.Add(sum(vehiculo_ruta[(vehiculo, ruta)] for vehiculo in range(num_vehiculos)) >= 1)\n",
        "\n",
        "# Restricción 3: Los vehículos deben operar durante las horas pico\n",
        "horas_pico = [7, 8, 9]\n",
        "for vehiculo in range(num_vehiculos):\n",
        "    model.Add(sum(vehiculo_horario[(vehiculo, hora)] for hora in horas_pico) >= 1)\n",
        "\n",
        "# Restricción 4: Los vehículos no deben exceder el tiempo máximo de viaje permitido\n",
        "for trip_id, duracion in viajes_tiempos.items():\n",
        "    if duracion > max_tiempo_viaje:\n",
        "        print(f\"El viaje {trip_id} excede el tiempo máximo permitido de {max_tiempo_viaje} minutos.\")\n",
        "\n",
        "# Restricción 5: Capacidad de vehículos\n",
        "for vehiculo in range(num_vehiculos):\n",
        "    capacidad_max = capacidad_vehiculos[vehiculo]\n",
        "    # Ejemplo simplificado para la restricción de capacidad\n",
        "    model.Add(capacidad_max <= 80)  # Limitar la capacidad máxima a 60 pasajeros\n",
        "\n",
        "# Función de optimización: minimizar el tiempo total de viaje\n",
        "total_tiempo_viaje = sum(vehiculo_ruta[(vehiculo, ruta)] * max_tiempo_viaje for vehiculo in range(num_vehiculos) for ruta in rutas)\n",
        "model.Minimize(total_tiempo_viaje)\n",
        "\n",
        "# Crear el solver y resolver el modelo\n",
        "solver = cp_model.CpSolver()\n",
        "status = solver.Solve(model)\n",
        "\n",
        "# Verificar si se encontró una solución\n",
        "if status == cp_model.OPTIMAL or status == cp_model.FEASIBLE:\n",
        "    print(\"Solución óptima encontrada:\")\n",
        "    for vehiculo in range(num_vehiculos):\n",
        "        for ruta in rutas:\n",
        "            if solver.Value(vehiculo_ruta[(vehiculo, ruta)]) == 1:\n",
        "                print(f\"El vehículo {vehiculo} cubre la ruta {ruta}.\")\n",
        "else:\n",
        "    print(\"No se encontró una solución factible.\")"
      ],
      "metadata": {
        "colab": {
          "base_uri": "https://localhost:8080/"
        },
        "id": "k3J9QfvOfPMv",
        "outputId": "76b8bf35-a3b0-4157-a871-a20ec120c203"
      },
      "execution_count": null,
      "outputs": [
        {
          "output_type": "stream",
          "name": "stdout",
          "text": [
            "Solución óptima encontrada:\n",
            "El vehículo 7 cubre la ruta 33.\n",
            "El vehículo 7 cubre la ruta 31.\n",
            "El vehículo 7 cubre la ruta 29.\n",
            "El vehículo 7 cubre la ruta 12.\n",
            "El vehículo 7 cubre la ruta 11.\n",
            "El vehículo 7 cubre la ruta 18.\n",
            "El vehículo 7 cubre la ruta 9.\n",
            "El vehículo 7 cubre la ruta 1.\n",
            "El vehículo 7 cubre la ruta 22.\n",
            "El vehículo 7 cubre la ruta 8.\n",
            "El vehículo 7 cubre la ruta 0.\n",
            "El vehículo 7 cubre la ruta 17.\n",
            "El vehículo 7 cubre la ruta 28.\n",
            "El vehículo 7 cubre la ruta 19.\n",
            "El vehículo 7 cubre la ruta 4.\n",
            "El vehículo 7 cubre la ruta 5.\n",
            "El vehículo 7 cubre la ruta 30.\n",
            "El vehículo 7 cubre la ruta 6.\n",
            "El vehículo 7 cubre la ruta 3.\n",
            "El vehículo 7 cubre la ruta 16.\n",
            "El vehículo 7 cubre la ruta 7.\n",
            "El vehículo 7 cubre la ruta 10.\n",
            "El vehículo 7 cubre la ruta 35.\n",
            "El vehículo 7 cubre la ruta 27.\n",
            "El vehículo 7 cubre la ruta 13.\n",
            "El vehículo 7 cubre la ruta 15.\n",
            "El vehículo 7 cubre la ruta 34.\n",
            "El vehículo 7 cubre la ruta 14.\n",
            "El vehículo 7 cubre la ruta 32.\n",
            "El vehículo 7 cubre la ruta 26.\n",
            "El vehículo 7 cubre la ruta 20.\n",
            "El vehículo 7 cubre la ruta 21.\n",
            "El vehículo 7 cubre la ruta 23.\n",
            "El vehículo 7 cubre la ruta 24.\n",
            "El vehículo 7 cubre la ruta 2.\n",
            "El vehículo 7 cubre la ruta 25.\n"
          ]
        }
      ]
    }
  ],
  "metadata": {
    "colab": {
      "provenance": [],
      "include_colab_link": true
    },
    "kernelspec": {
      "display_name": "Python 3",
      "name": "python3"
    }
  },
  "nbformat": 4,
  "nbformat_minor": 0
}